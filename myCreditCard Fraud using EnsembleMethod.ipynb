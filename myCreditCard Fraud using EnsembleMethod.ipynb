{
 "cells": [
  {
   "cell_type": "code",
   "execution_count": 1,
   "metadata": {
    "collapsed": false
   },
   "outputs": [],
   "source": [
    "import numpy as np\n",
    "import pandas as pd \n",
    "from sklearn.preprocessing import StandardScaler\n",
    "from sklearn.neighbors import KNeighborsClassifier\n",
    "dataset = pd.read_csv('creditcard.csv')"
   ]
  },
  {
   "cell_type": "code",
   "execution_count": 2,
   "metadata": {
    "collapsed": false
   },
   "outputs": [
    {
     "data": {
      "text/html": [
       "<div>\n",
       "<table border=\"1\" class=\"dataframe\">\n",
       "  <thead>\n",
       "    <tr style=\"text-align: right;\">\n",
       "      <th></th>\n",
       "      <th>V1</th>\n",
       "      <th>V2</th>\n",
       "      <th>V3</th>\n",
       "      <th>V4</th>\n",
       "      <th>V5</th>\n",
       "      <th>V6</th>\n",
       "      <th>V7</th>\n",
       "      <th>V8</th>\n",
       "      <th>V9</th>\n",
       "      <th>V10</th>\n",
       "      <th>...</th>\n",
       "      <th>V21</th>\n",
       "      <th>V22</th>\n",
       "      <th>V23</th>\n",
       "      <th>V24</th>\n",
       "      <th>V25</th>\n",
       "      <th>V26</th>\n",
       "      <th>V27</th>\n",
       "      <th>V28</th>\n",
       "      <th>Class</th>\n",
       "      <th>new_amount</th>\n",
       "    </tr>\n",
       "  </thead>\n",
       "  <tbody>\n",
       "    <tr>\n",
       "      <th>0</th>\n",
       "      <td>-1.359807</td>\n",
       "      <td>-0.072781</td>\n",
       "      <td>2.536347</td>\n",
       "      <td>1.378155</td>\n",
       "      <td>-0.338321</td>\n",
       "      <td>0.462388</td>\n",
       "      <td>0.239599</td>\n",
       "      <td>0.098698</td>\n",
       "      <td>0.363787</td>\n",
       "      <td>0.090794</td>\n",
       "      <td>...</td>\n",
       "      <td>-0.018307</td>\n",
       "      <td>0.277838</td>\n",
       "      <td>-0.110474</td>\n",
       "      <td>0.066928</td>\n",
       "      <td>0.128539</td>\n",
       "      <td>-0.189115</td>\n",
       "      <td>0.133558</td>\n",
       "      <td>-0.021053</td>\n",
       "      <td>0</td>\n",
       "      <td>0.244964</td>\n",
       "    </tr>\n",
       "    <tr>\n",
       "      <th>1</th>\n",
       "      <td>1.191857</td>\n",
       "      <td>0.266151</td>\n",
       "      <td>0.166480</td>\n",
       "      <td>0.448154</td>\n",
       "      <td>0.060018</td>\n",
       "      <td>-0.082361</td>\n",
       "      <td>-0.078803</td>\n",
       "      <td>0.085102</td>\n",
       "      <td>-0.255425</td>\n",
       "      <td>-0.166974</td>\n",
       "      <td>...</td>\n",
       "      <td>-0.225775</td>\n",
       "      <td>-0.638672</td>\n",
       "      <td>0.101288</td>\n",
       "      <td>-0.339846</td>\n",
       "      <td>0.167170</td>\n",
       "      <td>0.125895</td>\n",
       "      <td>-0.008983</td>\n",
       "      <td>0.014724</td>\n",
       "      <td>0</td>\n",
       "      <td>-0.342475</td>\n",
       "    </tr>\n",
       "    <tr>\n",
       "      <th>2</th>\n",
       "      <td>-1.358354</td>\n",
       "      <td>-1.340163</td>\n",
       "      <td>1.773209</td>\n",
       "      <td>0.379780</td>\n",
       "      <td>-0.503198</td>\n",
       "      <td>1.800499</td>\n",
       "      <td>0.791461</td>\n",
       "      <td>0.247676</td>\n",
       "      <td>-1.514654</td>\n",
       "      <td>0.207643</td>\n",
       "      <td>...</td>\n",
       "      <td>0.247998</td>\n",
       "      <td>0.771679</td>\n",
       "      <td>0.909412</td>\n",
       "      <td>-0.689281</td>\n",
       "      <td>-0.327642</td>\n",
       "      <td>-0.139097</td>\n",
       "      <td>-0.055353</td>\n",
       "      <td>-0.059752</td>\n",
       "      <td>0</td>\n",
       "      <td>1.160686</td>\n",
       "    </tr>\n",
       "    <tr>\n",
       "      <th>3</th>\n",
       "      <td>-0.966272</td>\n",
       "      <td>-0.185226</td>\n",
       "      <td>1.792993</td>\n",
       "      <td>-0.863291</td>\n",
       "      <td>-0.010309</td>\n",
       "      <td>1.247203</td>\n",
       "      <td>0.237609</td>\n",
       "      <td>0.377436</td>\n",
       "      <td>-1.387024</td>\n",
       "      <td>-0.054952</td>\n",
       "      <td>...</td>\n",
       "      <td>-0.108300</td>\n",
       "      <td>0.005274</td>\n",
       "      <td>-0.190321</td>\n",
       "      <td>-1.175575</td>\n",
       "      <td>0.647376</td>\n",
       "      <td>-0.221929</td>\n",
       "      <td>0.062723</td>\n",
       "      <td>0.061458</td>\n",
       "      <td>0</td>\n",
       "      <td>0.140534</td>\n",
       "    </tr>\n",
       "    <tr>\n",
       "      <th>4</th>\n",
       "      <td>-1.158233</td>\n",
       "      <td>0.877737</td>\n",
       "      <td>1.548718</td>\n",
       "      <td>0.403034</td>\n",
       "      <td>-0.407193</td>\n",
       "      <td>0.095921</td>\n",
       "      <td>0.592941</td>\n",
       "      <td>-0.270533</td>\n",
       "      <td>0.817739</td>\n",
       "      <td>0.753074</td>\n",
       "      <td>...</td>\n",
       "      <td>-0.009431</td>\n",
       "      <td>0.798278</td>\n",
       "      <td>-0.137458</td>\n",
       "      <td>0.141267</td>\n",
       "      <td>-0.206010</td>\n",
       "      <td>0.502292</td>\n",
       "      <td>0.219422</td>\n",
       "      <td>0.215153</td>\n",
       "      <td>0</td>\n",
       "      <td>-0.073403</td>\n",
       "    </tr>\n",
       "  </tbody>\n",
       "</table>\n",
       "<p>5 rows × 30 columns</p>\n",
       "</div>"
      ],
      "text/plain": [
       "         V1        V2        V3        V4        V5        V6        V7  \\\n",
       "0 -1.359807 -0.072781  2.536347  1.378155 -0.338321  0.462388  0.239599   \n",
       "1  1.191857  0.266151  0.166480  0.448154  0.060018 -0.082361 -0.078803   \n",
       "2 -1.358354 -1.340163  1.773209  0.379780 -0.503198  1.800499  0.791461   \n",
       "3 -0.966272 -0.185226  1.792993 -0.863291 -0.010309  1.247203  0.237609   \n",
       "4 -1.158233  0.877737  1.548718  0.403034 -0.407193  0.095921  0.592941   \n",
       "\n",
       "         V8        V9       V10     ...           V21       V22       V23  \\\n",
       "0  0.098698  0.363787  0.090794     ...     -0.018307  0.277838 -0.110474   \n",
       "1  0.085102 -0.255425 -0.166974     ...     -0.225775 -0.638672  0.101288   \n",
       "2  0.247676 -1.514654  0.207643     ...      0.247998  0.771679  0.909412   \n",
       "3  0.377436 -1.387024 -0.054952     ...     -0.108300  0.005274 -0.190321   \n",
       "4 -0.270533  0.817739  0.753074     ...     -0.009431  0.798278 -0.137458   \n",
       "\n",
       "        V24       V25       V26       V27       V28  Class  new_amount  \n",
       "0  0.066928  0.128539 -0.189115  0.133558 -0.021053      0    0.244964  \n",
       "1 -0.339846  0.167170  0.125895 -0.008983  0.014724      0   -0.342475  \n",
       "2 -0.689281 -0.327642 -0.139097 -0.055353 -0.059752      0    1.160686  \n",
       "3 -1.175575  0.647376 -0.221929  0.062723  0.061458      0    0.140534  \n",
       "4  0.141267 -0.206010  0.502292  0.219422  0.215153      0   -0.073403  \n",
       "\n",
       "[5 rows x 30 columns]"
      ]
     },
     "execution_count": 2,
     "metadata": {},
     "output_type": "execute_result"
    }
   ],
   "source": [
    "dataset['new_amount'] = StandardScaler().fit_transform(dataset['Amount'].values.reshape(-1, 1))\n",
    "dataset.drop(['Time', 'Amount'], axis=1, inplace=True)\n",
    "dataset.head()"
   ]
  },
  {
   "cell_type": "code",
   "execution_count": 3,
   "metadata": {
    "collapsed": false
   },
   "outputs": [
    {
     "name": "stderr",
     "output_type": "stream",
     "text": [
      "C:\\Users\\HARSH\\Anaconda3\\lib\\site-packages\\ipykernel\\__main__.py:6: SettingWithCopyWarning: \n",
      "A value is trying to be set on a copy of a slice from a DataFrame\n",
      "\n",
      "See the caveats in the documentation: http://pandas.pydata.org/pandas-docs/stable/indexing.html#indexing-view-versus-copy\n"
     ]
    }
   ],
   "source": [
    "train_set_percentage = 0.5\n",
    "################################################### \n",
    "fraud_series = dataset[dataset['Class'] == 1]\n",
    "idx = fraud_series.index.values\n",
    "np.random.shuffle(idx)\n",
    "fraud_series.drop(idx[:int(idx.shape[0]*train_set_percentage)], inplace=True)\n",
    "dataset.drop(fraud_series.index.values, inplace=True)\n",
    "###################################################"
   ]
  },
  {
   "cell_type": "code",
   "execution_count": 4,
   "metadata": {
    "collapsed": false
   },
   "outputs": [
    {
     "name": "stderr",
     "output_type": "stream",
     "text": [
      "C:\\Users\\HARSH\\Anaconda3\\lib\\site-packages\\ipykernel\\__main__.py:6: SettingWithCopyWarning: \n",
      "A value is trying to be set on a copy of a slice from a DataFrame\n",
      "\n",
      "See the caveats in the documentation: http://pandas.pydata.org/pandas-docs/stable/indexing.html#indexing-view-versus-copy\n"
     ]
    }
   ],
   "source": [
    "###################################################\n",
    "# normal dataset with the same size of the fraud_series (training dataset)\n",
    "normal_series = dataset[dataset['Class'] == 0] \n",
    "idx = normal_series.index.values\n",
    "np.random.shuffle(idx)\n",
    "normal_series.drop(idx[fraud_series.shape[0]:], inplace=True)\n",
    "dataset.drop(normal_series.index.values, inplace=True)\n",
    "###################################################"
   ]
  },
  {
   "cell_type": "code",
   "execution_count": 5,
   "metadata": {
    "collapsed": true
   },
   "outputs": [],
   "source": [
    "# build the training dataset\n",
    "new_dataset = pd.concat([normal_series, fraud_series])\n",
    "new_dataset.reset_index(inplace=True, drop=True)\n",
    "y = new_dataset['Class'].values.reshape(-1, 1)\n",
    "new_dataset.drop(['Class'], axis=1, inplace=True)\n",
    "X = new_dataset"
   ]
  },
  {
   "cell_type": "code",
   "execution_count": 6,
   "metadata": {
    "collapsed": false
   },
   "outputs": [
    {
     "name": "stdout",
     "output_type": "stream",
     "text": [
      "Accuracy:  0.972972972973\n"
     ]
    }
   ],
   "source": [
    "from sklearn.svm import SVC\n",
    "from sklearn.model_selection import train_test_split\n",
    "from sklearn.metrics import accuracy_score\n",
    "from sklearn.model_selection import GridSearchCV\n",
    "from sklearn.preprocessing import MinMaxScaler\n",
    "from sklearn.metrics import recall_score\n",
    "from sklearn.metrics import confusion_matrix\n",
    "# Attributes that will be used by the gridsearchCV algorithm \n",
    "attr={'C': [0.1, 1, 2, 5, 10, 25, 50, 100],\n",
    "      'gamma': [1e-1, 1e-2, 1e-3]\n",
    "     }\n",
    "\n",
    "X_train, X_test, y_train, y_test = train_test_split(X, y.ravel(), test_size=0.3, random_state=10)\n",
    "\n",
    "model = SVC(probability=True)\n",
    "classif = GridSearchCV(model, attr, cv=5)\n",
    "classif.fit(X_train, y_train)\n",
    "y_pred_svm = classif.predict(X_test)\n",
    "y_prob_svm = classif.predict_proba(X_test)\n",
    "print('Accuracy: ',accuracy_score(y_pred_svm, y_test))"
   ]
  },
  {
   "cell_type": "code",
   "execution_count": 7,
   "metadata": {
    "collapsed": false
   },
   "outputs": [
    {
     "name": "stdout",
     "output_type": "stream",
     "text": [
      "classifier created\n",
      "Accuracy:  0.959459459459\n"
     ]
    }
   ],
   "source": [
    "knn = KNeighborsClassifier(n_neighbors = 5,n_jobs=16)        # n_jobs The number of jobs to run in parallel for both fit and predict. None means 1 unless in a joblib.parallel_backend context. -1 means using all processors.\n",
    "knn.fit(X_train,y_train)                                     # n_neighbors Number of neighbors to use by default for kneighbors queries.\n",
    "print(\"classifier created\")\n",
    "y_pred_knn = knn.predict(X_test)\n",
    "y_prob_knn = knn.predict_proba(X_test)\n",
    "print('Accuracy: ',accuracy_score(y_pred_knn, y_test))\n",
    "#score = knn.score(X_test,y_test)\n",
    "#print(\"model evaluated\")\n",
    "#print(score)"
   ]
  },
  {
   "cell_type": "code",
   "execution_count": 8,
   "metadata": {
    "collapsed": false
   },
   "outputs": [
    {
     "name": "stdout",
     "output_type": "stream",
     "text": [
      "Accuracy:  0.918918918919\n"
     ]
    }
   ],
   "source": [
    "from sklearn.naive_bayes import GaussianNB\n",
    "from sklearn.linear_model import LogisticRegression\n",
    "\n",
    "gcf = GaussianNB()\n",
    "gcf.fit(X_train, y_train)\n",
    "y_pred_gcf = gcf.predict(X_test)\n",
    "y_prob_gcf = gcf.predict_proba(X_test)\n",
    "print('Accuracy: ',accuracy_score(y_pred_gcf, y_test))"
   ]
  },
  {
   "cell_type": "code",
   "execution_count": 23,
   "metadata": {
    "collapsed": false
   },
   "outputs": [
    {
     "data": {
      "text/plain": [
       "array([1, 1, 0, 1, 1, 1, 0, 0, 1, 1, 1, 1, 0, 1, 0, 1, 0, 0, 0, 1, 0, 1, 0,\n",
       "       1, 1, 0, 0, 0, 0, 1, 1, 1, 1, 0, 0, 1, 0, 0, 1, 1, 0, 1, 0, 1, 0, 0,\n",
       "       0, 0, 0, 1, 1, 0, 1, 0, 1, 0, 0, 1, 0, 0, 1, 0, 1, 1, 0, 1, 1, 1, 0,\n",
       "       1, 1, 1, 0, 0, 0, 0, 1, 1, 0, 1, 0, 1, 0, 0, 1, 0, 1, 0, 0, 0, 1, 1,\n",
       "       0, 0, 1, 0, 0, 0, 0, 0, 0, 0, 1, 0, 1, 1, 0, 1, 0, 0, 0, 1, 0, 1, 1,\n",
       "       0, 0, 1, 0, 1, 1, 0, 0, 0, 1, 0, 0, 1, 1, 0, 1, 1, 0, 0, 1, 1, 1, 1,\n",
       "       0, 0, 0, 0, 0, 1, 0, 0, 0, 1], dtype=int64)"
      ]
     },
     "execution_count": 23,
     "metadata": {},
     "output_type": "execute_result"
    }
   ],
   "source": [
    "y_pred_gcf"
   ]
  },
  {
   "cell_type": "code",
   "execution_count": 24,
   "metadata": {
    "collapsed": false
   },
   "outputs": [
    {
     "data": {
      "text/plain": [
       "array([[  1.25391689e-275,   1.00000000e+000],\n",
       "       [  9.58241414e-243,   1.00000000e+000],\n",
       "       [  1.00000000e+000,   1.49304419e-016],\n",
       "       [  0.00000000e+000,   1.00000000e+000],\n",
       "       [  2.26619304e-031,   1.00000000e+000],\n",
       "       [  0.00000000e+000,   1.00000000e+000],\n",
       "       [  1.00000000e+000,   4.89950542e-016],\n",
       "       [  1.00000000e+000,   7.80478134e-013],\n",
       "       [  3.17501339e-038,   1.00000000e+000],\n",
       "       [  0.00000000e+000,   1.00000000e+000],\n",
       "       [  0.00000000e+000,   1.00000000e+000],\n",
       "       [  1.85176775e-084,   1.00000000e+000],\n",
       "       [  9.89259214e-001,   1.07407861e-002],\n",
       "       [  9.96187913e-068,   1.00000000e+000],\n",
       "       [  1.00000000e+000,   2.49956149e-016],\n",
       "       [  1.30869517e-058,   1.00000000e+000],\n",
       "       [  1.00000000e+000,   4.65401545e-014],\n",
       "       [  1.00000000e+000,   5.81369075e-016],\n",
       "       [  9.94060981e-001,   5.93901904e-003],\n",
       "       [  1.79719349e-017,   1.00000000e+000],\n",
       "       [  1.00000000e+000,   1.10920158e-014],\n",
       "       [  1.38967910e-060,   1.00000000e+000],\n",
       "       [  1.00000000e+000,   6.74347548e-013],\n",
       "       [  7.57112241e-167,   1.00000000e+000],\n",
       "       [  8.59884477e-147,   1.00000000e+000],\n",
       "       [  1.00000000e+000,   6.11385444e-017],\n",
       "       [  1.00000000e+000,   2.20487980e-016],\n",
       "       [  1.00000000e+000,   9.40679835e-011],\n",
       "       [  1.00000000e+000,   2.42185455e-012],\n",
       "       [  0.00000000e+000,   1.00000000e+000],\n",
       "       [  5.95008552e-008,   9.99999940e-001],\n",
       "       [  2.52334204e-069,   1.00000000e+000],\n",
       "       [  0.00000000e+000,   1.00000000e+000],\n",
       "       [  1.00000000e+000,   3.14062897e-015],\n",
       "       [  1.00000000e+000,   5.04561995e-016],\n",
       "       [  2.42609533e-022,   1.00000000e+000],\n",
       "       [  1.00000000e+000,   8.05564002e-014],\n",
       "       [  1.00000000e+000,   1.45982468e-011],\n",
       "       [  1.25391689e-275,   1.00000000e+000],\n",
       "       [  5.27313925e-146,   1.00000000e+000],\n",
       "       [  1.00000000e+000,   3.88685389e-014],\n",
       "       [  3.72661359e-068,   1.00000000e+000],\n",
       "       [  1.00000000e+000,   5.01086725e-013],\n",
       "       [  2.55412355e-058,   1.00000000e+000],\n",
       "       [  1.00000000e+000,   2.88697686e-013],\n",
       "       [  1.00000000e+000,   9.79874416e-017],\n",
       "       [  1.00000000e+000,   1.75507385e-013],\n",
       "       [  1.00000000e+000,   2.78260062e-014],\n",
       "       [  1.00000000e+000,   4.79535116e-010],\n",
       "       [  1.17874684e-058,   1.00000000e+000],\n",
       "       [  0.00000000e+000,   1.00000000e+000],\n",
       "       [  1.00000000e+000,   2.46767430e-012],\n",
       "       [  1.13156504e-056,   1.00000000e+000],\n",
       "       [  1.00000000e+000,   1.26135100e-015],\n",
       "       [  1.06067144e-008,   9.99999989e-001],\n",
       "       [  1.00000000e+000,   1.44177743e-016],\n",
       "       [  1.00000000e+000,   3.07339174e-014],\n",
       "       [  9.00489497e-002,   9.09951050e-001],\n",
       "       [  1.00000000e+000,   1.50198968e-015],\n",
       "       [  9.89654777e-001,   1.03452231e-002],\n",
       "       [  4.86884265e-001,   5.13115735e-001],\n",
       "       [  1.00000000e+000,   6.31868548e-017],\n",
       "       [  2.04990241e-122,   1.00000000e+000],\n",
       "       [  0.00000000e+000,   1.00000000e+000],\n",
       "       [  1.00000000e+000,   1.80358746e-011],\n",
       "       [  2.30281084e-044,   1.00000000e+000],\n",
       "       [  9.24968373e-009,   9.99999991e-001],\n",
       "       [  1.48099154e-287,   1.00000000e+000],\n",
       "       [  1.00000000e+000,   1.22419482e-014],\n",
       "       [  3.60164877e-153,   1.00000000e+000],\n",
       "       [  1.01334472e-025,   1.00000000e+000],\n",
       "       [  0.00000000e+000,   1.00000000e+000],\n",
       "       [  1.00000000e+000,   6.99470805e-016],\n",
       "       [  1.00000000e+000,   3.69415245e-012],\n",
       "       [  1.00000000e+000,   1.61436417e-016],\n",
       "       [  1.00000000e+000,   1.00470581e-010],\n",
       "       [  0.00000000e+000,   1.00000000e+000],\n",
       "       [  0.00000000e+000,   1.00000000e+000],\n",
       "       [  1.00000000e+000,   7.13761399e-017],\n",
       "       [  2.73633440e-175,   1.00000000e+000],\n",
       "       [  1.00000000e+000,   1.34999156e-016],\n",
       "       [  4.53148499e-027,   1.00000000e+000],\n",
       "       [  1.00000000e+000,   4.86469202e-015],\n",
       "       [  1.00000000e+000,   1.03987859e-012],\n",
       "       [  0.00000000e+000,   1.00000000e+000],\n",
       "       [  1.00000000e+000,   5.25096931e-016],\n",
       "       [  3.44724624e-194,   1.00000000e+000],\n",
       "       [  1.00000000e+000,   3.81849796e-015],\n",
       "       [  1.00000000e+000,   6.38065660e-013],\n",
       "       [  1.00000000e+000,   1.97014730e-016],\n",
       "       [  0.00000000e+000,   1.00000000e+000],\n",
       "       [  5.04275328e-089,   1.00000000e+000],\n",
       "       [  1.00000000e+000,   2.81518233e-015],\n",
       "       [  1.00000000e+000,   3.35403789e-014],\n",
       "       [  0.00000000e+000,   1.00000000e+000],\n",
       "       [  1.00000000e+000,   4.99624383e-016],\n",
       "       [  9.99999996e-001,   3.63543393e-009],\n",
       "       [  1.00000000e+000,   2.85929883e-016],\n",
       "       [  1.00000000e+000,   1.99725175e-015],\n",
       "       [  1.00000000e+000,   1.30168584e-016],\n",
       "       [  1.00000000e+000,   9.49766909e-016],\n",
       "       [  1.00000000e+000,   8.33439675e-015],\n",
       "       [  4.13171026e-248,   1.00000000e+000],\n",
       "       [  1.00000000e+000,   4.26218008e-016],\n",
       "       [  0.00000000e+000,   1.00000000e+000],\n",
       "       [  2.31853785e-036,   1.00000000e+000],\n",
       "       [  1.00000000e+000,   3.62229550e-012],\n",
       "       [  3.33043935e-131,   1.00000000e+000],\n",
       "       [  9.99995554e-001,   4.44597074e-006],\n",
       "       [  1.00000000e+000,   2.00285507e-013],\n",
       "       [  1.00000000e+000,   2.49528181e-011],\n",
       "       [  0.00000000e+000,   1.00000000e+000],\n",
       "       [  1.00000000e+000,   2.17188817e-011],\n",
       "       [  4.55601470e-152,   1.00000000e+000],\n",
       "       [  4.11435216e-111,   1.00000000e+000],\n",
       "       [  1.00000000e+000,   6.39372681e-017],\n",
       "       [  1.00000000e+000,   3.34978365e-016],\n",
       "       [  1.60533742e-149,   1.00000000e+000],\n",
       "       [  1.00000000e+000,   2.03385002e-011],\n",
       "       [  1.38163335e-183,   1.00000000e+000],\n",
       "       [  5.45154509e-105,   1.00000000e+000],\n",
       "       [  9.82738269e-001,   1.72617313e-002],\n",
       "       [  1.00000000e+000,   5.96489491e-017],\n",
       "       [  1.00000000e+000,   4.61518180e-013],\n",
       "       [  2.77976915e-056,   1.00000000e+000],\n",
       "       [  9.99909376e-001,   9.06239373e-005],\n",
       "       [  1.00000000e+000,   1.83741354e-014],\n",
       "       [  8.11765169e-108,   1.00000000e+000],\n",
       "       [  3.80604959e-086,   1.00000000e+000],\n",
       "       [  1.00000000e+000,   2.89418038e-016],\n",
       "       [  1.20697919e-282,   1.00000000e+000],\n",
       "       [  1.91020161e-144,   1.00000000e+000],\n",
       "       [  1.00000000e+000,   1.03761220e-015],\n",
       "       [  1.00000000e+000,   6.25576375e-017],\n",
       "       [  1.94478833e-091,   1.00000000e+000],\n",
       "       [  4.20094160e-034,   1.00000000e+000],\n",
       "       [  0.00000000e+000,   1.00000000e+000],\n",
       "       [  3.57115656e-124,   1.00000000e+000],\n",
       "       [  1.00000000e+000,   1.07117410e-015],\n",
       "       [  1.00000000e+000,   4.24989807e-016],\n",
       "       [  1.00000000e+000,   3.63391827e-014],\n",
       "       [  1.00000000e+000,   3.17303544e-014],\n",
       "       [  1.00000000e+000,   3.74300935e-014],\n",
       "       [  3.47441200e-231,   1.00000000e+000],\n",
       "       [  1.00000000e+000,   1.51549402e-013],\n",
       "       [  1.00000000e+000,   3.18341150e-016],\n",
       "       [  1.00000000e+000,   1.95952246e-013],\n",
       "       [  2.61915469e-124,   1.00000000e+000]])"
      ]
     },
     "execution_count": 24,
     "metadata": {},
     "output_type": "execute_result"
    }
   ],
   "source": [
    "y_prob_gcf"
   ]
  },
  {
   "cell_type": "code",
   "execution_count": 9,
   "metadata": {
    "collapsed": false
   },
   "outputs": [
    {
     "name": "stdout",
     "output_type": "stream",
     "text": [
      "Accuracy:  0.972972972973\n"
     ]
    }
   ],
   "source": [
    "lcf = LogisticRegression()\n",
    "lcf.fit(X_train, y_train)\n",
    "y_pred_lcf = lcf.predict(X_test)\n",
    "y_prob_lcf = lcf.predict_proba(X_test)\n",
    "print('Accuracy: ',accuracy_score(y_pred_lcf, y_test))"
   ]
  },
  {
   "cell_type": "code",
   "execution_count": 10,
   "metadata": {
    "collapsed": false
   },
   "outputs": [],
   "source": [
    "from sklearn.ensemble import IsolationForest\n",
    "icf=IsolationForest(contamination=0.0017234102419808666,random_state=13)\n",
    "icf.fit(X_train, y_train)\n",
    "y_pred_icf = icf.predict(X_test)\n",
    "#y_prob_icf = icf.predict_proba(X_test)\n",
    "\n"
   ]
  },
  {
   "cell_type": "code",
   "execution_count": 11,
   "metadata": {
    "collapsed": false
   },
   "outputs": [],
   "source": [
    "\n",
    "y_pred_icf[y_pred_icf == 1] = 0\n",
    "y_pred_icf[y_pred_icf == -1] =1"
   ]
  },
  {
   "cell_type": "code",
   "execution_count": 12,
   "metadata": {
    "collapsed": false
   },
   "outputs": [
    {
     "name": "stdout",
     "output_type": "stream",
     "text": [
      "Accuracy:  0.527027027027\n"
     ]
    }
   ],
   "source": [
    " print('Accuracy: ',accuracy_score(y_pred_icf, y_test))"
   ]
  },
  {
   "cell_type": "code",
   "execution_count": 13,
   "metadata": {
    "collapsed": false
   },
   "outputs": [],
   "source": [
    "y_prob = (0.26148113552*y_prob_lcf+0.191034210122*y_prob_gcf+0.2828419442*y_prob_knn+0.264642710167*y_prob_svm)"
   ]
  },
  {
   "cell_type": "code",
   "execution_count": 14,
   "metadata": {
    "collapsed": false
   },
   "outputs": [
    {
     "name": "stdout",
     "output_type": "stream",
     "text": [
      "[[  3.92978878e-03   9.96070211e-01]\n",
      " [  3.73145715e-03   9.96268543e-01]\n",
      " [  9.94931165e-01   5.06883518e-03]\n",
      " [  3.87194217e-03   9.96128058e-01]\n",
      " [  7.87049206e-01   2.12950794e-01]\n",
      " [  4.00419699e-03   9.95995803e-01]\n",
      " [  9.96644809e-01   3.35519115e-03]\n",
      " [  9.91821603e-01   8.17839655e-03]\n",
      " [  2.35467542e-02   9.76453246e-01]\n",
      " [  3.81401768e-03   9.96185982e-01]\n",
      " [  3.87220473e-03   9.96127795e-01]\n",
      " [  2.13437977e-03   9.97865620e-01]\n",
      " [  9.95437878e-01   4.56212214e-03]\n",
      " [  1.09085770e-03   9.98909142e-01]\n",
      " [  9.89421794e-01   1.05782060e-02]\n",
      " [  4.62698147e-06   9.99995373e-01]\n",
      " [  9.97708083e-01   2.29191697e-03]\n",
      " [  9.98095883e-01   1.90411730e-03]\n",
      " [  2.46657869e-01   7.53342131e-01]\n",
      " [  5.20643293e-07   9.99999479e-01]\n",
      " [  9.31360352e-01   6.86396479e-02]\n",
      " [  7.24522077e-04   9.99275478e-01]\n",
      " [  3.49134481e-01   6.50865519e-01]\n",
      " [  3.94903393e-03   9.96050966e-01]\n",
      " [  3.00314077e-03   9.96996859e-01]\n",
      " [  9.95004441e-01   4.99555946e-03]\n",
      " [  9.96531068e-01   3.46893247e-03]\n",
      " [  5.43488910e-01   4.56511090e-01]\n",
      " [  9.99079158e-01   9.20841863e-04]\n",
      " [  4.81307381e-03   9.95186926e-01]\n",
      " [  1.91370677e-03   9.98086293e-01]\n",
      " [  1.12475059e-03   9.98875249e-01]\n",
      " [  3.57535513e-03   9.96424645e-01]\n",
      " [  9.81741960e-01   1.82580397e-02]\n",
      " [  9.94095547e-01   5.90445263e-03]\n",
      " [  6.44497730e-01   3.55502270e-01]\n",
      " [  9.27894317e-01   7.21056834e-02]\n",
      " [  9.98195630e-01   1.80436989e-03]\n",
      " [  3.92978878e-03   9.96070211e-01]\n",
      " [  2.21571075e-03   9.97784289e-01]\n",
      " [  9.95327523e-01   4.67247713e-03]\n",
      " [  9.65430182e-04   9.99034570e-01]\n",
      " [  9.98705978e-01   1.29402248e-03]\n",
      " [  8.67343358e-03   9.91326566e-01]\n",
      " [  9.97413751e-01   2.58624923e-03]\n",
      " [  9.85171464e-01   1.48285358e-02]\n",
      " [  9.94530445e-01   5.46955468e-03]\n",
      " [  9.99315159e-01   6.84841482e-04]\n",
      " [  9.95307626e-01   4.69237360e-03]\n",
      " [  4.93538458e-06   9.99995065e-01]\n",
      " [  3.87220473e-03   9.96127795e-01]\n",
      " [  4.02989499e-01   5.97010501e-01]\n",
      " [  1.14345046e-03   9.98856550e-01]\n",
      " [  9.73518795e-01   2.64812055e-02]\n",
      " [  3.11985763e-03   9.96880142e-01]\n",
      " [  9.90552992e-01   9.44700844e-03]\n",
      " [  9.87612654e-01   1.23873465e-02]\n",
      " [  8.22289536e-01   1.77710464e-01]\n",
      " [  9.90762324e-01   9.23767602e-03]\n",
      " [  2.60328290e-01   7.39671710e-01]\n",
      " [  1.57225526e-01   8.42774474e-01]\n",
      " [  9.97863742e-01   2.13625799e-03]\n",
      " [  3.40414943e-03   9.96595851e-01]\n",
      " [  3.92657650e-03   9.96073424e-01]\n",
      " [  9.98827512e-01   1.17248790e-03]\n",
      " [  1.10021911e-06   9.99998900e-01]\n",
      " [  1.54887541e-03   9.98451125e-01]\n",
      " [  3.86448482e-03   9.96135515e-01]\n",
      " [  9.91852187e-01   8.14781291e-03]\n",
      " [  2.61352375e-03   9.97386476e-01]\n",
      " [  1.12658580e-03   9.98873414e-01]\n",
      " [  4.40591976e-03   9.95594080e-01]\n",
      " [  9.96232870e-01   3.76712983e-03]\n",
      " [  9.97460914e-01   2.53908554e-03]\n",
      " [  9.94138084e-01   5.86191631e-03]\n",
      " [  4.39396210e-01   5.60603790e-01]\n",
      " [  3.85020719e-03   9.96149793e-01]\n",
      " [  4.21884211e-03   9.95781158e-01]\n",
      " [  9.95922955e-01   4.07704453e-03]\n",
      " [  5.46889290e-03   9.94531107e-01]\n",
      " [  9.98584695e-01   1.41530479e-03]\n",
      " [  2.23362667e-03   9.97766373e-01]\n",
      " [  9.96799375e-01   3.20062514e-03]\n",
      " [  9.98243626e-01   1.75637424e-03]\n",
      " [  5.22730980e-03   9.94772690e-01]\n",
      " [  9.92239974e-01   7.76002642e-03]\n",
      " [  3.90966515e-03   9.96090335e-01]\n",
      " [  9.97848770e-01   2.15122978e-03]\n",
      " [  9.80843314e-01   1.91566858e-02]\n",
      " [  9.86593803e-01   1.34061966e-02]\n",
      " [  3.87220473e-03   9.96127795e-01]\n",
      " [  1.10013146e-03   9.98899869e-01]\n",
      " [  9.97570614e-01   2.42938640e-03]\n",
      " [  9.76453936e-01   2.35460637e-02]\n",
      " [  7.98271756e-03   9.92017282e-01]\n",
      " [  9.94801270e-01   5.19873043e-03]\n",
      " [  9.79675890e-01   2.03241100e-02]\n",
      " [  9.84068313e-01   1.59316868e-02]\n",
      " [  9.84670577e-01   1.53294231e-02]\n",
      " [  9.93029176e-01   6.97082355e-03]\n",
      " [  9.98122890e-01   1.87711007e-03]\n",
      " [  9.92766081e-01   7.23391886e-03]\n",
      " [  4.18181401e-03   9.95818186e-01]\n",
      " [  9.94481311e-01   5.51868894e-03]\n",
      " [  3.85020719e-03   9.96149793e-01]\n",
      " [  1.20891356e-02   9.87910864e-01]\n",
      " [  7.39853656e-01   2.60146344e-01]\n",
      " [  4.58790812e-03   9.95412092e-01]\n",
      " [  2.50277089e-01   7.49722911e-01]\n",
      " [  9.98935531e-01   1.06446949e-03]\n",
      " [  9.94347133e-01   5.65286731e-03]\n",
      " [  4.03957265e-03   9.95960427e-01]\n",
      " [  9.97510754e-01   2.48924625e-03]\n",
      " [  3.81530278e-03   9.96184697e-01]\n",
      " [  1.97519516e-03   9.98024805e-01]\n",
      " [  9.97651657e-01   2.34834271e-03]\n",
      " [  9.92903238e-01   7.09676235e-03]\n",
      " [  6.50622211e-02   9.34937779e-01]\n",
      " [  9.92792685e-01   7.20731548e-03]\n",
      " [  3.99827099e-03   9.96001729e-01]\n",
      " [  2.62159975e-03   9.97378400e-01]\n",
      " [  9.91582903e-01   8.41709705e-03]\n",
      " [  9.96612665e-01   3.38733548e-03]\n",
      " [  9.95762815e-01   4.23718491e-03]\n",
      " [  1.92419167e-06   9.99998076e-01]\n",
      " [  8.23716467e-01   1.76283533e-01]\n",
      " [  9.91831690e-01   8.16831036e-03]\n",
      " [  1.45349761e-03   9.98546502e-01]\n",
      " [  1.62582614e-03   9.98374174e-01]\n",
      " [  9.87075498e-01   1.29245017e-02]\n",
      " [  4.49389575e-03   9.95506104e-01]\n",
      " [  2.13662250e-03   9.97863378e-01]\n",
      " [  9.98773502e-01   1.22649758e-03]\n",
      " [  9.97023749e-01   2.97625060e-03]\n",
      " [  1.33014437e-03   9.98669856e-01]\n",
      " [  2.46501949e-06   9.99997535e-01]\n",
      " [  3.41591988e-03   9.96584080e-01]\n",
      " [  2.25245873e-03   9.97747541e-01]\n",
      " [  9.97220540e-01   2.77946034e-03]\n",
      " [  9.95326954e-01   4.67304603e-03]\n",
      " [  9.97260698e-01   2.73930188e-03]\n",
      " [  9.90926686e-01   9.07331399e-03]\n",
      " [  9.93847044e-01   6.15295606e-03]\n",
      " [  3.30876370e-03   9.96691236e-01]\n",
      " [  9.95657165e-01   4.34283469e-03]\n",
      " [  9.93370998e-01   6.62900233e-03]\n",
      " [  9.96108238e-01   3.89176203e-03]\n",
      " [  3.16701944e-03   9.96832981e-01]]\n"
     ]
    }
   ],
   "source": [
    "print(y_prob)"
   ]
  },
  {
   "cell_type": "code",
   "execution_count": 15,
   "metadata": {
    "collapsed": false
   },
   "outputs": [],
   "source": [
    "def printgf(i,j):\n",
    "    if (i>j):\n",
    "        return 0\n",
    "    else :return 1"
   ]
  },
  {
   "cell_type": "code",
   "execution_count": 16,
   "metadata": {
    "collapsed": false
   },
   "outputs": [],
   "source": [
    "y_pred=[printgf(i,j) for i,j in y_prob]"
   ]
  },
  {
   "cell_type": "code",
   "execution_count": 17,
   "metadata": {
    "collapsed": false
   },
   "outputs": [
    {
     "name": "stdout",
     "output_type": "stream",
     "text": [
      "Accuracy:  0.966216216216\n"
     ]
    }
   ],
   "source": [
    "print('Accuracy: ',accuracy_score(y_pred, y_test))"
   ]
  },
  {
   "cell_type": "code",
   "execution_count": 18,
   "metadata": {
    "collapsed": false
   },
   "outputs": [],
   "source": [
    "def maxvote(y_pred_lcf,y_pred_gcf,y_pred_knn,y_pred_svm):\n",
    "    i=0\n",
    "    j=0\n",
    "    for k in [y_pred_lcf,y_pred_gcf,y_pred_knn,y_pred_svm]:\n",
    "        if k ==0:\n",
    "            i=i+1\n",
    "        else:\n",
    "            j=j+1\n",
    "    if(i>j): return 0\n",
    "    else: return 1"
   ]
  },
  {
   "cell_type": "code",
   "execution_count": 19,
   "metadata": {
    "collapsed": false
   },
   "outputs": [],
   "source": [
    "y_pred2=[]\n",
    "for i in range(len(y_pred_lcf)):\n",
    "    y_pred2.append(maxvote(y_pred_lcf[i],y_pred_gcf[i],y_pred_knn[i],y_pred_svm[i]))"
   ]
  },
  {
   "cell_type": "code",
   "execution_count": 20,
   "metadata": {
    "collapsed": false
   },
   "outputs": [
    {
     "name": "stdout",
     "output_type": "stream",
     "text": [
      "Accuracy:  0.972972972973\n"
     ]
    }
   ],
   "source": [
    "print('Accuracy: ',accuracy_score(y_pred2, y_test))"
   ]
  },
  {
   "cell_type": "code",
   "execution_count": 21,
   "metadata": {
    "collapsed": false
   },
   "outputs": [
    {
     "name": "stdout",
     "output_type": "stream",
     "text": [
      "Accuracy:  0.472972972973\n"
     ]
    }
   ],
   "source": [
    "print('Accuracy: ',accuracy_score([1 for i in range(len(y_test))], y_test))"
   ]
  },
  {
   "cell_type": "code",
   "execution_count": 22,
   "metadata": {
    "collapsed": false
   },
   "outputs": [
    {
     "data": {
      "text/plain": [
       "array([1, 1, 0, 1, 0, 1, 0, 0, 1, 1, 1, 1, 0, 1, 0, 1, 0, 0, 1, 1, 0, 1, 1,\n",
       "       1, 1, 0, 0, 1, 0, 1, 1, 1, 1, 0, 0, 0, 0, 0, 1, 1, 0, 1, 0, 1, 0, 0,\n",
       "       0, 0, 0, 1, 1, 1, 1, 0, 1, 0, 0, 0, 0, 0, 0, 0, 1, 1, 0, 1, 1, 1, 0,\n",
       "       1, 1, 1, 0, 0, 0, 1, 1, 1, 0, 1, 0, 1, 0, 0, 1, 0, 1, 0, 0, 0, 1, 1,\n",
       "       0, 0, 1, 0, 1, 0, 0, 0, 0, 0, 1, 0, 1, 1, 0, 1, 1, 0, 0, 1, 0, 1, 1,\n",
       "       0, 0, 0, 0, 1, 1, 0, 0, 0, 1, 0, 0, 1, 1, 0, 1, 1, 0, 0, 1, 1, 1, 1,\n",
       "       0, 0, 0, 0, 0, 1, 0, 0, 0, 1], dtype=int64)"
      ]
     },
     "execution_count": 22,
     "metadata": {},
     "output_type": "execute_result"
    }
   ],
   "source": [
    "y_test"
   ]
  }
 ],
 "metadata": {
  "anaconda-cloud": {},
  "kernelspec": {
   "display_name": "Python [Root]",
   "language": "python",
   "name": "Python [Root]"
  },
  "language_info": {
   "codemirror_mode": {
    "name": "ipython",
    "version": 3
   },
   "file_extension": ".py",
   "mimetype": "text/x-python",
   "name": "python",
   "nbconvert_exporter": "python",
   "pygments_lexer": "ipython3",
   "version": "3.5.2"
  }
 },
 "nbformat": 4,
 "nbformat_minor": 0
}
